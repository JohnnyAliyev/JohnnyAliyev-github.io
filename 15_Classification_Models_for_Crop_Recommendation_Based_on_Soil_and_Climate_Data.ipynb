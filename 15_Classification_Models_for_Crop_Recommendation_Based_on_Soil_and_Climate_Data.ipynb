{
  "cells": [
    {
      "cell_type": "markdown",
      "metadata": {
        "id": "view-in-github",
        "colab_type": "text"
      },
      "source": [
        "<a href=\"https://colab.research.google.com/github/JohnnyAliyev/JohnnyAliyev-github.io/blob/main/15_Classification_Models_for_Crop_Recommendation_Based_on_Soil_and_Climate_Data.ipynb\" target=\"_parent\"><img src=\"https://colab.research.google.com/assets/colab-badge.svg\" alt=\"Open In Colab\"/></a>"
      ]
    },
    {
      "cell_type": "markdown",
      "source": [
        " <a id=\"1\"></a>\n",
        "# <div style=\"text-align:center; border-radius:15px 50px; padding:7px; color:white; margin:0; font-size:100%; font-family:Pacifico; background-color:#284b50; overflow:hidden\"><b>Classification Models for Crop Recommendation Based on Soil and Climate Data.</b></div>"
      ],
      "metadata": {
        "id": "TjIwvWF571gB"
      },
      "id": "TjIwvWF571gB"
    },
    {
      "cell_type": "markdown",
      "source": [],
      "metadata": {
        "id": "O1Rhkys571Y9"
      },
      "id": "O1Rhkys571Y9"
    },
    {
      "cell_type": "markdown",
      "id": "5b3b3a04-5950-4c68-9857-fde086a8aad3",
      "metadata": {
        "id": "5b3b3a04-5950-4c68-9857-fde086a8aad3"
      },
      "source": [
        "# *1.Import Libraries*"
      ]
    },
    {
      "cell_type": "code",
      "execution_count": null,
      "id": "6a877e02-4746-45f6-bcf4-83650c4e99d6",
      "metadata": {
        "id": "6a877e02-4746-45f6-bcf4-83650c4e99d6"
      },
      "outputs": [],
      "source": [
        "import pandas as pd\n",
        "import numpy as np\n",
        "import seaborn as sns\n",
        "import matplotlib.pyplot as plt\n",
        "from sklearn.model_selection import train_test_split\n",
        "from sklearn.preprocessing import MinMaxScaler\n",
        "from sklearn.preprocessing import StandardScaler\n",
        "from sklearn.linear_model import LogisticRegression\n",
        "from sklearn.naive_bayes import GaussianNB\n",
        "from sklearn.svm import SVC\n",
        "from sklearn.neighbors import KNeighborsClassifier\n",
        "from sklearn.tree import DecisionTreeClassifier, ExtraTreeClassifier\n",
        "from sklearn.ensemble import RandomForestClassifier, BaggingClassifier, GradientBoostingClassifier, AdaBoostClassifier\n",
        "from sklearn.metrics import accuracy_score\n"
      ]
    },
    {
      "cell_type": "markdown",
      "id": "5d51131f-62e2-4af7-8136-39cfa7575dda",
      "metadata": {
        "id": "5d51131f-62e2-4af7-8136-39cfa7575dda"
      },
      "source": [
        "#"
      ]
    },
    {
      "cell_type": "markdown",
      "id": "9d4aeb22-068d-4b10-8106-7d458f6cf393",
      "metadata": {
        "id": "9d4aeb22-068d-4b10-8106-7d458f6cf393"
      },
      "source": [
        "# *2. Import Dataset*"
      ]
    },
    {
      "cell_type": "markdown",
      "id": "60a7be64-d817-48e6-b857-9549038d6034",
      "metadata": {
        "id": "60a7be64-d817-48e6-b857-9549038d6034"
      },
      "source": [
        "## Context\n",
        "### This dataset was build by augmenting datasets of rainfall, climate and fertilizer data available for India.\n",
        "##### Data fields\n",
        "- N - ratio of Nitrogen content in soil\n",
        "- P - ratio of Phosphorous content in soil\n",
        "- K - ratio of Potassium content in soil\n",
        "- temperature - temperature in degree Celsius\n",
        "- humidity - relative humidity in %\n",
        "- ph - ph value of the soil\n",
        "- rainfall - rainfall in mm\n",
        "\n"
      ]
    },
    {
      "cell_type": "code",
      "execution_count": null,
      "id": "c16c719f-8504-4645-9626-8fd7defd6416",
      "metadata": {
        "id": "c16c719f-8504-4645-9626-8fd7defd6416",
        "outputId": "942c124e-61a9-41bc-b1c3-b9a5cd919a9e"
      },
      "outputs": [
        {
          "data": {
            "text/html": [
              "<div>\n",
              "<style scoped>\n",
              "    .dataframe tbody tr th:only-of-type {\n",
              "        vertical-align: middle;\n",
              "    }\n",
              "\n",
              "    .dataframe tbody tr th {\n",
              "        vertical-align: top;\n",
              "    }\n",
              "\n",
              "    .dataframe thead th {\n",
              "        text-align: right;\n",
              "    }\n",
              "</style>\n",
              "<table border=\"1\" class=\"dataframe\">\n",
              "  <thead>\n",
              "    <tr style=\"text-align: right;\">\n",
              "      <th></th>\n",
              "      <th>N</th>\n",
              "      <th>P</th>\n",
              "      <th>K</th>\n",
              "      <th>temperature</th>\n",
              "      <th>humidity</th>\n",
              "      <th>ph</th>\n",
              "      <th>rainfall</th>\n",
              "      <th>label</th>\n",
              "    </tr>\n",
              "  </thead>\n",
              "  <tbody>\n",
              "    <tr>\n",
              "      <th>0</th>\n",
              "      <td>90</td>\n",
              "      <td>42</td>\n",
              "      <td>43</td>\n",
              "      <td>20.879744</td>\n",
              "      <td>82.002744</td>\n",
              "      <td>6.502985</td>\n",
              "      <td>202.935536</td>\n",
              "      <td>rice</td>\n",
              "    </tr>\n",
              "    <tr>\n",
              "      <th>1</th>\n",
              "      <td>85</td>\n",
              "      <td>58</td>\n",
              "      <td>41</td>\n",
              "      <td>21.770462</td>\n",
              "      <td>80.319644</td>\n",
              "      <td>7.038096</td>\n",
              "      <td>226.655537</td>\n",
              "      <td>rice</td>\n",
              "    </tr>\n",
              "    <tr>\n",
              "      <th>2</th>\n",
              "      <td>60</td>\n",
              "      <td>55</td>\n",
              "      <td>44</td>\n",
              "      <td>23.004459</td>\n",
              "      <td>82.320763</td>\n",
              "      <td>7.840207</td>\n",
              "      <td>263.964248</td>\n",
              "      <td>rice</td>\n",
              "    </tr>\n",
              "  </tbody>\n",
              "</table>\n",
              "</div>"
            ],
            "text/plain": [
              "    N   P   K  temperature   humidity        ph    rainfall label\n",
              "0  90  42  43    20.879744  82.002744  6.502985  202.935536  rice\n",
              "1  85  58  41    21.770462  80.319644  7.038096  226.655537  rice\n",
              "2  60  55  44    23.004459  82.320763  7.840207  263.964248  rice"
            ]
          },
          "execution_count": 2,
          "metadata": {},
          "output_type": "execute_result"
        }
      ],
      "source": [
        "df=pd.read_csv('Desktop/ARTIFICIAL INTELLIGENT/Sample Datas for ML/Crop_recommendation.csv')\n",
        "df.head(3)"
      ]
    },
    {
      "cell_type": "code",
      "execution_count": null,
      "id": "0ecd859e-8e15-4695-adf4-6a090e8d57a8",
      "metadata": {
        "id": "0ecd859e-8e15-4695-adf4-6a090e8d57a8",
        "outputId": "3b38eae0-e698-44f2-ec27-df085aaa9851"
      },
      "outputs": [
        {
          "data": {
            "text/plain": [
              "(2200, 8)"
            ]
          },
          "execution_count": 3,
          "metadata": {},
          "output_type": "execute_result"
        }
      ],
      "source": [
        "df.shape"
      ]
    },
    {
      "cell_type": "markdown",
      "id": "c4f7705f-6d95-4056-bc2b-1fa577d5ad68",
      "metadata": {
        "id": "c4f7705f-6d95-4056-bc2b-1fa577d5ad68"
      },
      "source": [
        "#"
      ]
    },
    {
      "cell_type": "markdown",
      "id": "08541b93-3e01-475b-9960-d84959b34c05",
      "metadata": {
        "id": "08541b93-3e01-475b-9960-d84959b34c05"
      },
      "source": [
        "# *3. Data Analysis and Visualization*"
      ]
    },
    {
      "cell_type": "code",
      "execution_count": null,
      "id": "f345f7f2-10a0-4d41-a063-0c743a5c4c84",
      "metadata": {
        "id": "f345f7f2-10a0-4d41-a063-0c743a5c4c84",
        "outputId": "41e43e62-05dd-4070-ccff-477ee0d1ccda"
      },
      "outputs": [
        {
          "name": "stdout",
          "output_type": "stream",
          "text": [
            "<class 'pandas.core.frame.DataFrame'>\n",
            "RangeIndex: 2200 entries, 0 to 2199\n",
            "Data columns (total 8 columns):\n",
            " #   Column       Non-Null Count  Dtype  \n",
            "---  ------       --------------  -----  \n",
            " 0   N            2200 non-null   int64  \n",
            " 1   P            2200 non-null   int64  \n",
            " 2   K            2200 non-null   int64  \n",
            " 3   temperature  2200 non-null   float64\n",
            " 4   humidity     2200 non-null   float64\n",
            " 5   ph           2200 non-null   float64\n",
            " 6   rainfall     2200 non-null   float64\n",
            " 7   label        2200 non-null   object \n",
            "dtypes: float64(4), int64(3), object(1)\n",
            "memory usage: 137.6+ KB\n"
          ]
        }
      ],
      "source": [
        "df.info()"
      ]
    },
    {
      "cell_type": "code",
      "execution_count": null,
      "id": "61fa1911-8906-41b3-aa2d-f2c16b154990",
      "metadata": {
        "id": "61fa1911-8906-41b3-aa2d-f2c16b154990",
        "outputId": "18a3b253-1442-4af0-b291-11e59ac31312"
      },
      "outputs": [
        {
          "data": {
            "text/html": [
              "<div>\n",
              "<style scoped>\n",
              "    .dataframe tbody tr th:only-of-type {\n",
              "        vertical-align: middle;\n",
              "    }\n",
              "\n",
              "    .dataframe tbody tr th {\n",
              "        vertical-align: top;\n",
              "    }\n",
              "\n",
              "    .dataframe thead th {\n",
              "        text-align: right;\n",
              "    }\n",
              "</style>\n",
              "<table border=\"1\" class=\"dataframe\">\n",
              "  <thead>\n",
              "    <tr style=\"text-align: right;\">\n",
              "      <th></th>\n",
              "      <th>N</th>\n",
              "      <th>P</th>\n",
              "      <th>K</th>\n",
              "      <th>temperature</th>\n",
              "      <th>humidity</th>\n",
              "      <th>ph</th>\n",
              "      <th>rainfall</th>\n",
              "    </tr>\n",
              "  </thead>\n",
              "  <tbody>\n",
              "    <tr>\n",
              "      <th>count</th>\n",
              "      <td>2200.000000</td>\n",
              "      <td>2200.000000</td>\n",
              "      <td>2200.000000</td>\n",
              "      <td>2200.000000</td>\n",
              "      <td>2200.000000</td>\n",
              "      <td>2200.000000</td>\n",
              "      <td>2200.000000</td>\n",
              "    </tr>\n",
              "    <tr>\n",
              "      <th>mean</th>\n",
              "      <td>50.551818</td>\n",
              "      <td>53.362727</td>\n",
              "      <td>48.149091</td>\n",
              "      <td>25.616244</td>\n",
              "      <td>71.481779</td>\n",
              "      <td>6.469480</td>\n",
              "      <td>103.463655</td>\n",
              "    </tr>\n",
              "    <tr>\n",
              "      <th>std</th>\n",
              "      <td>36.917334</td>\n",
              "      <td>32.985883</td>\n",
              "      <td>50.647931</td>\n",
              "      <td>5.063749</td>\n",
              "      <td>22.263812</td>\n",
              "      <td>0.773938</td>\n",
              "      <td>54.958389</td>\n",
              "    </tr>\n",
              "    <tr>\n",
              "      <th>min</th>\n",
              "      <td>0.000000</td>\n",
              "      <td>5.000000</td>\n",
              "      <td>5.000000</td>\n",
              "      <td>8.825675</td>\n",
              "      <td>14.258040</td>\n",
              "      <td>3.504752</td>\n",
              "      <td>20.211267</td>\n",
              "    </tr>\n",
              "    <tr>\n",
              "      <th>25%</th>\n",
              "      <td>21.000000</td>\n",
              "      <td>28.000000</td>\n",
              "      <td>20.000000</td>\n",
              "      <td>22.769375</td>\n",
              "      <td>60.261953</td>\n",
              "      <td>5.971693</td>\n",
              "      <td>64.551686</td>\n",
              "    </tr>\n",
              "    <tr>\n",
              "      <th>50%</th>\n",
              "      <td>37.000000</td>\n",
              "      <td>51.000000</td>\n",
              "      <td>32.000000</td>\n",
              "      <td>25.598693</td>\n",
              "      <td>80.473146</td>\n",
              "      <td>6.425045</td>\n",
              "      <td>94.867624</td>\n",
              "    </tr>\n",
              "    <tr>\n",
              "      <th>75%</th>\n",
              "      <td>84.250000</td>\n",
              "      <td>68.000000</td>\n",
              "      <td>49.000000</td>\n",
              "      <td>28.561654</td>\n",
              "      <td>89.948771</td>\n",
              "      <td>6.923643</td>\n",
              "      <td>124.267508</td>\n",
              "    </tr>\n",
              "    <tr>\n",
              "      <th>max</th>\n",
              "      <td>140.000000</td>\n",
              "      <td>145.000000</td>\n",
              "      <td>205.000000</td>\n",
              "      <td>43.675493</td>\n",
              "      <td>99.981876</td>\n",
              "      <td>9.935091</td>\n",
              "      <td>298.560117</td>\n",
              "    </tr>\n",
              "  </tbody>\n",
              "</table>\n",
              "</div>"
            ],
            "text/plain": [
              "                 N            P            K  temperature     humidity  \\\n",
              "count  2200.000000  2200.000000  2200.000000  2200.000000  2200.000000   \n",
              "mean     50.551818    53.362727    48.149091    25.616244    71.481779   \n",
              "std      36.917334    32.985883    50.647931     5.063749    22.263812   \n",
              "min       0.000000     5.000000     5.000000     8.825675    14.258040   \n",
              "25%      21.000000    28.000000    20.000000    22.769375    60.261953   \n",
              "50%      37.000000    51.000000    32.000000    25.598693    80.473146   \n",
              "75%      84.250000    68.000000    49.000000    28.561654    89.948771   \n",
              "max     140.000000   145.000000   205.000000    43.675493    99.981876   \n",
              "\n",
              "                ph     rainfall  \n",
              "count  2200.000000  2200.000000  \n",
              "mean      6.469480   103.463655  \n",
              "std       0.773938    54.958389  \n",
              "min       3.504752    20.211267  \n",
              "25%       5.971693    64.551686  \n",
              "50%       6.425045    94.867624  \n",
              "75%       6.923643   124.267508  \n",
              "max       9.935091   298.560117  "
            ]
          },
          "execution_count": 5,
          "metadata": {},
          "output_type": "execute_result"
        }
      ],
      "source": [
        "df.describe()"
      ]
    },
    {
      "cell_type": "code",
      "execution_count": null,
      "id": "51a709a8-77b0-494d-b9d9-973b29c95a6a",
      "metadata": {
        "id": "51a709a8-77b0-494d-b9d9-973b29c95a6a",
        "outputId": "0b768dce-adac-4062-94e9-9e576eae4259"
      },
      "outputs": [
        {
          "data": {
            "text/plain": [
              "N              0\n",
              "P              0\n",
              "K              0\n",
              "temperature    0\n",
              "humidity       0\n",
              "ph             0\n",
              "rainfall       0\n",
              "label          0\n",
              "dtype: int64"
            ]
          },
          "execution_count": 6,
          "metadata": {},
          "output_type": "execute_result"
        }
      ],
      "source": [
        "df.isnull().sum()"
      ]
    },
    {
      "cell_type": "code",
      "execution_count": null,
      "id": "2800c606-b3c4-48f3-adfa-5fa2732f0e7d",
      "metadata": {
        "id": "2800c606-b3c4-48f3-adfa-5fa2732f0e7d",
        "outputId": "f17ba5d2-0cac-4548-ca53-93f598df0881"
      },
      "outputs": [
        {
          "data": {
            "text/plain": [
              "0"
            ]
          },
          "execution_count": 7,
          "metadata": {},
          "output_type": "execute_result"
        }
      ],
      "source": [
        "df.duplicated().sum()"
      ]
    },
    {
      "cell_type": "code",
      "execution_count": null,
      "id": "535dd2db-42f3-4e30-9a23-1ce4e51b177e",
      "metadata": {
        "id": "535dd2db-42f3-4e30-9a23-1ce4e51b177e",
        "outputId": "9a7623fa-7c40-4def-ef14-aca3558dc560"
      },
      "outputs": [
        {
          "data": {
            "text/html": [
              "<div>\n",
              "<style scoped>\n",
              "    .dataframe tbody tr th:only-of-type {\n",
              "        vertical-align: middle;\n",
              "    }\n",
              "\n",
              "    .dataframe tbody tr th {\n",
              "        vertical-align: top;\n",
              "    }\n",
              "\n",
              "    .dataframe thead th {\n",
              "        text-align: right;\n",
              "    }\n",
              "</style>\n",
              "<table border=\"1\" class=\"dataframe\">\n",
              "  <thead>\n",
              "    <tr style=\"text-align: right;\">\n",
              "      <th></th>\n",
              "      <th>N</th>\n",
              "      <th>P</th>\n",
              "      <th>K</th>\n",
              "      <th>temperature</th>\n",
              "      <th>humidity</th>\n",
              "      <th>ph</th>\n",
              "      <th>rainfall</th>\n",
              "      <th>label</th>\n",
              "    </tr>\n",
              "  </thead>\n",
              "  <tbody>\n",
              "    <tr>\n",
              "      <th>N</th>\n",
              "      <td>1.000000</td>\n",
              "      <td>-0.231460</td>\n",
              "      <td>-0.140512</td>\n",
              "      <td>0.026504</td>\n",
              "      <td>0.190688</td>\n",
              "      <td>0.096683</td>\n",
              "      <td>0.059020</td>\n",
              "      <td>-0.317076</td>\n",
              "    </tr>\n",
              "    <tr>\n",
              "      <th>P</th>\n",
              "      <td>-0.231460</td>\n",
              "      <td>1.000000</td>\n",
              "      <td>0.736232</td>\n",
              "      <td>-0.127541</td>\n",
              "      <td>-0.118734</td>\n",
              "      <td>-0.138019</td>\n",
              "      <td>-0.063839</td>\n",
              "      <td>0.109993</td>\n",
              "    </tr>\n",
              "    <tr>\n",
              "      <th>K</th>\n",
              "      <td>-0.140512</td>\n",
              "      <td>0.736232</td>\n",
              "      <td>1.000000</td>\n",
              "      <td>-0.160387</td>\n",
              "      <td>0.190859</td>\n",
              "      <td>-0.169503</td>\n",
              "      <td>-0.053461</td>\n",
              "      <td>-0.089209</td>\n",
              "    </tr>\n",
              "    <tr>\n",
              "      <th>temperature</th>\n",
              "      <td>0.026504</td>\n",
              "      <td>-0.127541</td>\n",
              "      <td>-0.160387</td>\n",
              "      <td>1.000000</td>\n",
              "      <td>0.205320</td>\n",
              "      <td>-0.017795</td>\n",
              "      <td>-0.030084</td>\n",
              "      <td>-0.031383</td>\n",
              "    </tr>\n",
              "    <tr>\n",
              "      <th>humidity</th>\n",
              "      <td>0.190688</td>\n",
              "      <td>-0.118734</td>\n",
              "      <td>0.190859</td>\n",
              "      <td>0.205320</td>\n",
              "      <td>1.000000</td>\n",
              "      <td>-0.008483</td>\n",
              "      <td>0.094423</td>\n",
              "      <td>-0.640925</td>\n",
              "    </tr>\n",
              "    <tr>\n",
              "      <th>ph</th>\n",
              "      <td>0.096683</td>\n",
              "      <td>-0.138019</td>\n",
              "      <td>-0.169503</td>\n",
              "      <td>-0.017795</td>\n",
              "      <td>-0.008483</td>\n",
              "      <td>1.000000</td>\n",
              "      <td>-0.109069</td>\n",
              "      <td>0.057527</td>\n",
              "    </tr>\n",
              "    <tr>\n",
              "      <th>rainfall</th>\n",
              "      <td>0.059020</td>\n",
              "      <td>-0.063839</td>\n",
              "      <td>-0.053461</td>\n",
              "      <td>-0.030084</td>\n",
              "      <td>0.094423</td>\n",
              "      <td>-0.109069</td>\n",
              "      <td>1.000000</td>\n",
              "      <td>-0.311053</td>\n",
              "    </tr>\n",
              "    <tr>\n",
              "      <th>label</th>\n",
              "      <td>-0.317076</td>\n",
              "      <td>0.109993</td>\n",
              "      <td>-0.089209</td>\n",
              "      <td>-0.031383</td>\n",
              "      <td>-0.640925</td>\n",
              "      <td>0.057527</td>\n",
              "      <td>-0.311053</td>\n",
              "      <td>1.000000</td>\n",
              "    </tr>\n",
              "  </tbody>\n",
              "</table>\n",
              "</div>"
            ],
            "text/plain": [
              "                    N         P         K  temperature  humidity        ph  \\\n",
              "N            1.000000 -0.231460 -0.140512     0.026504  0.190688  0.096683   \n",
              "P           -0.231460  1.000000  0.736232    -0.127541 -0.118734 -0.138019   \n",
              "K           -0.140512  0.736232  1.000000    -0.160387  0.190859 -0.169503   \n",
              "temperature  0.026504 -0.127541 -0.160387     1.000000  0.205320 -0.017795   \n",
              "humidity     0.190688 -0.118734  0.190859     0.205320  1.000000 -0.008483   \n",
              "ph           0.096683 -0.138019 -0.169503    -0.017795 -0.008483  1.000000   \n",
              "rainfall     0.059020 -0.063839 -0.053461    -0.030084  0.094423 -0.109069   \n",
              "label       -0.317076  0.109993 -0.089209    -0.031383 -0.640925  0.057527   \n",
              "\n",
              "             rainfall     label  \n",
              "N            0.059020 -0.317076  \n",
              "P           -0.063839  0.109993  \n",
              "K           -0.053461 -0.089209  \n",
              "temperature -0.030084 -0.031383  \n",
              "humidity     0.094423 -0.640925  \n",
              "ph          -0.109069  0.057527  \n",
              "rainfall     1.000000 -0.311053  \n",
              "label       -0.311053  1.000000  "
            ]
          },
          "execution_count": 8,
          "metadata": {},
          "output_type": "execute_result"
        }
      ],
      "source": [
        "df_dic={\n",
        "    'rice': 1,\n",
        "    'maize': 2,\n",
        "    'jute': 3,\n",
        "    'cotton': 4,\n",
        "    'coconut': 5,\n",
        "    'papaya': 6,\n",
        "    'orange': 7,\n",
        "    'apple': 8,\n",
        "    'muskmelon': 9,\n",
        "    'watermelon': 10,\n",
        "    'grapes': 11,\n",
        "    'mango': 12,\n",
        "    'banana': 13,\n",
        "    'pomegranate': 14,\n",
        "    'lentil': 15,\n",
        "    'blackgram': 16,\n",
        "    'mungbean': 17,\n",
        "    'mothbeans': 18,\n",
        "    'pigeonpeas': 19,\n",
        "    'kidneybeans': 20,\n",
        "    'chickpea': 21,\n",
        "    'coffee': 22\n",
        "}\n",
        "\n",
        "df['label'] = df['label'].map(df_dic)\n",
        "df.corr()"
      ]
    },
    {
      "cell_type": "code",
      "execution_count": null,
      "id": "ea81cd24-bc0e-48ff-8935-4aa59cfb6af0",
      "metadata": {
        "id": "ea81cd24-bc0e-48ff-8935-4aa59cfb6af0",
        "outputId": "dff110ea-155b-4224-d335-6ccf7f2d14de"
      },
      "outputs": [
        {
          "data": {
            "text/plain": [
              "<Axes: >"
            ]
          },
          "execution_count": 9,
          "metadata": {},
          "output_type": "execute_result"
        },
        {
          "data": {
            "image/png": "[encoded data removed]",
            "text/plain": [
              "<Figure size 640x480 with 2 Axes>"
            ]
          },
          "metadata": {},
          "output_type": "display_data"
        }
      ],
      "source": [
        "sns.heatmap(df.corr(), annot=True, cbar=True)"
      ]
    },
    {
      "cell_type": "code",
      "execution_count": null,
      "id": "91666be9-2542-49d1-ad16-58b779c500d1",
      "metadata": {
        "id": "91666be9-2542-49d1-ad16-58b779c500d1",
        "outputId": "5e5f36b1-47f7-4ac6-cdc8-aa2e6da9b6ac"
      },
      "outputs": [
        {
          "data": {
            "text/plain": [
              "label\n",
              "1     100\n",
              "2     100\n",
              "3     100\n",
              "4     100\n",
              "5     100\n",
              "6     100\n",
              "7     100\n",
              "8     100\n",
              "9     100\n",
              "10    100\n",
              "11    100\n",
              "12    100\n",
              "13    100\n",
              "14    100\n",
              "15    100\n",
              "16    100\n",
              "17    100\n",
              "18    100\n",
              "19    100\n",
              "20    100\n",
              "21    100\n",
              "22    100\n",
              "Name: count, dtype: int64"
            ]
          },
          "execution_count": 10,
          "metadata": {},
          "output_type": "execute_result"
        }
      ],
      "source": [
        "df.label.value_counts()"
      ]
    },
    {
      "cell_type": "code",
      "execution_count": null,
      "id": "a703d82d-cdf2-4dbf-a429-658a3f01c4cd",
      "metadata": {
        "id": "a703d82d-cdf2-4dbf-a429-658a3f01c4cd",
        "outputId": "49e723f5-8d8b-49d2-a689-8967ddfc3a72"
      },
      "outputs": [
        {
          "data": {
            "text/plain": [
              "22"
            ]
          },
          "execution_count": 11,
          "metadata": {},
          "output_type": "execute_result"
        }
      ],
      "source": [
        "df['label'].unique().size"
      ]
    },
    {
      "cell_type": "code",
      "execution_count": null,
      "id": "e5716bb2-4c91-4452-890c-5d5d6acd66ff",
      "metadata": {
        "id": "e5716bb2-4c91-4452-890c-5d5d6acd66ff",
        "outputId": "4232aa5d-1958-4023-f73c-6148dadbf92f"
      },
      "outputs": [
        {
          "data": {
            "image/png": "[encoded data removed]",
            "text/plain": [
              "<Figure size 1800x1000 with 6 Axes>"
            ]
          },
          "metadata": {},
          "output_type": "display_data"
        }
      ],
      "source": [
        "# Visualization of density\n",
        "import warnings\n",
        "warnings.filterwarnings('ignore')\n",
        "\n",
        "fig, axes = plt.subplots(2, 3, figsize=(18, 10))  # Adjust figsize as needed\n",
        "\n",
        "\n",
        "sns.histplot(df['N'], kde=True, ax=axes[0, 0], color='blue')\n",
        "axes[0, 0].set_title(\"Distribution of N\")\n",
        "\n",
        "sns.histplot(df['P'], kde=True, ax=axes[0, 1], color='skyblue')\n",
        "axes[0, 1].set_title(\"Distribution of P\")\n",
        "\n",
        "sns.histplot(df['K'], kde=True, ax=axes[0, 2], color='red')\n",
        "axes[0, 2].set_title(\"Distribution of K\")\n",
        "\n",
        "# Plot the second row of distributions\n",
        "sns.histplot(df['temperature'], kde=True, ax=axes[1, 0], color='green')\n",
        "axes[1, 0].set_title(\"Distribution of temperature\")\n",
        "\n",
        "sns.histplot(df['humidity'], kde=True, ax=axes[1, 1], color='orange')\n",
        "axes[1, 1].set_title(\"Distribution of humidity\")\n",
        "\n",
        "sns.histplot(df['ph'], kde=True, ax=axes[1, 2], color='gray')\n",
        "axes[1, 2].set_title(\"Distribution of ph\")\n",
        "\n",
        "# Adjust layout\n",
        "plt.tight_layout()\n",
        "plt.show()"
      ]
    },
    {
      "cell_type": "markdown",
      "id": "9258779a-2b6c-43be-a602-71f28c6f6165",
      "metadata": {
        "id": "9258779a-2b6c-43be-a602-71f28c6f6165"
      },
      "source": [
        "#"
      ]
    },
    {
      "cell_type": "markdown",
      "id": "0f7dc9d0-189c-4cc6-957e-1f78d9f017ad",
      "metadata": {
        "id": "0f7dc9d0-189c-4cc6-957e-1f78d9f017ad"
      },
      "source": [
        "# *4.Data Splitting and Preparing*"
      ]
    },
    {
      "cell_type": "code",
      "execution_count": null,
      "id": "5865528c-3097-48dd-99b4-79304df068ef",
      "metadata": {
        "id": "5865528c-3097-48dd-99b4-79304df068ef"
      },
      "outputs": [],
      "source": [
        "X=df.drop('label', axis = 1)\n",
        "y=df['label']"
      ]
    },
    {
      "cell_type": "code",
      "execution_count": null,
      "id": "4a22d550-6aff-45ba-a523-4a0cae0fdf2c",
      "metadata": {
        "id": "4a22d550-6aff-45ba-a523-4a0cae0fdf2c",
        "outputId": "5aae9fd6-ab5b-4cb4-98f7-6f27184b4c94"
      },
      "outputs": [
        {
          "data": {
            "text/html": [
              "<div>\n",
              "<style scoped>\n",
              "    .dataframe tbody tr th:only-of-type {\n",
              "        vertical-align: middle;\n",
              "    }\n",
              "\n",
              "    .dataframe tbody tr th {\n",
              "        vertical-align: top;\n",
              "    }\n",
              "\n",
              "    .dataframe thead th {\n",
              "        text-align: right;\n",
              "    }\n",
              "</style>\n",
              "<table border=\"1\" class=\"dataframe\">\n",
              "  <thead>\n",
              "    <tr style=\"text-align: right;\">\n",
              "      <th></th>\n",
              "      <th>N</th>\n",
              "      <th>P</th>\n",
              "      <th>K</th>\n",
              "      <th>temperature</th>\n",
              "      <th>humidity</th>\n",
              "      <th>ph</th>\n",
              "      <th>rainfall</th>\n",
              "    </tr>\n",
              "  </thead>\n",
              "  <tbody>\n",
              "    <tr>\n",
              "      <th>0</th>\n",
              "      <td>90</td>\n",
              "      <td>42</td>\n",
              "      <td>43</td>\n",
              "      <td>20.879744</td>\n",
              "      <td>82.002744</td>\n",
              "      <td>6.502985</td>\n",
              "      <td>202.935536</td>\n",
              "    </tr>\n",
              "    <tr>\n",
              "      <th>1</th>\n",
              "      <td>85</td>\n",
              "      <td>58</td>\n",
              "      <td>41</td>\n",
              "      <td>21.770462</td>\n",
              "      <td>80.319644</td>\n",
              "      <td>7.038096</td>\n",
              "      <td>226.655537</td>\n",
              "    </tr>\n",
              "    <tr>\n",
              "      <th>2</th>\n",
              "      <td>60</td>\n",
              "      <td>55</td>\n",
              "      <td>44</td>\n",
              "      <td>23.004459</td>\n",
              "      <td>82.320763</td>\n",
              "      <td>7.840207</td>\n",
              "      <td>263.964248</td>\n",
              "    </tr>\n",
              "    <tr>\n",
              "      <th>3</th>\n",
              "      <td>74</td>\n",
              "      <td>35</td>\n",
              "      <td>40</td>\n",
              "      <td>26.491096</td>\n",
              "      <td>80.158363</td>\n",
              "      <td>6.980401</td>\n",
              "      <td>242.864034</td>\n",
              "    </tr>\n",
              "    <tr>\n",
              "      <th>4</th>\n",
              "      <td>78</td>\n",
              "      <td>42</td>\n",
              "      <td>42</td>\n",
              "      <td>20.130175</td>\n",
              "      <td>81.604873</td>\n",
              "      <td>7.628473</td>\n",
              "      <td>262.717340</td>\n",
              "    </tr>\n",
              "  </tbody>\n",
              "</table>\n",
              "</div>"
            ],
            "text/plain": [
              "    N   P   K  temperature   humidity        ph    rainfall\n",
              "0  90  42  43    20.879744  82.002744  6.502985  202.935536\n",
              "1  85  58  41    21.770462  80.319644  7.038096  226.655537\n",
              "2  60  55  44    23.004459  82.320763  7.840207  263.964248\n",
              "3  74  35  40    26.491096  80.158363  6.980401  242.864034\n",
              "4  78  42  42    20.130175  81.604873  7.628473  262.717340"
            ]
          },
          "execution_count": 14,
          "metadata": {},
          "output_type": "execute_result"
        }
      ],
      "source": [
        "X.head()"
      ]
    },
    {
      "cell_type": "code",
      "execution_count": null,
      "id": "ebe2ba80-4473-4c68-a6b0-f3ec7c472ffa",
      "metadata": {
        "id": "ebe2ba80-4473-4c68-a6b0-f3ec7c472ffa",
        "outputId": "b4c25bb2-8f04-4a91-baff-7a1480fa7f17"
      },
      "outputs": [
        {
          "data": {
            "text/plain": [
              "0    1\n",
              "1    1\n",
              "2    1\n",
              "3    1\n",
              "4    1\n",
              "Name: label, dtype: int64"
            ]
          },
          "execution_count": 15,
          "metadata": {},
          "output_type": "execute_result"
        }
      ],
      "source": [
        "y.head()"
      ]
    },
    {
      "cell_type": "code",
      "execution_count": null,
      "id": "0635713e-14cb-4589-bbaa-f430daa2c6cf",
      "metadata": {
        "id": "0635713e-14cb-4589-bbaa-f430daa2c6cf"
      },
      "outputs": [],
      "source": [
        "X_train, X_test, y_train, y_test = train_test_split(X, y, test_size = 0.2, random_state=42)"
      ]
    },
    {
      "cell_type": "code",
      "execution_count": null,
      "id": "44045b49-8813-44fa-8bc7-b68a9c6c8470",
      "metadata": {
        "id": "44045b49-8813-44fa-8bc7-b68a9c6c8470",
        "outputId": "e0865798-e014-4ff9-d456-1f72fcb2aef3"
      },
      "outputs": [
        {
          "data": {
            "text/html": [
              "<div>\n",
              "<style scoped>\n",
              "    .dataframe tbody tr th:only-of-type {\n",
              "        vertical-align: middle;\n",
              "    }\n",
              "\n",
              "    .dataframe tbody tr th {\n",
              "        vertical-align: top;\n",
              "    }\n",
              "\n",
              "    .dataframe thead th {\n",
              "        text-align: right;\n",
              "    }\n",
              "</style>\n",
              "<table border=\"1\" class=\"dataframe\">\n",
              "  <thead>\n",
              "    <tr style=\"text-align: right;\">\n",
              "      <th></th>\n",
              "      <th>0</th>\n",
              "      <th>1</th>\n",
              "      <th>2</th>\n",
              "      <th>3</th>\n",
              "      <th>4</th>\n",
              "      <th>5</th>\n",
              "      <th>6</th>\n",
              "    </tr>\n",
              "  </thead>\n",
              "  <tbody>\n",
              "    <tr>\n",
              "      <th>0</th>\n",
              "      <td>0.121429</td>\n",
              "      <td>0.078571</td>\n",
              "      <td>0.045</td>\n",
              "      <td>0.217234</td>\n",
              "      <td>0.908990</td>\n",
              "      <td>0.485322</td>\n",
              "      <td>0.296852</td>\n",
              "    </tr>\n",
              "    <tr>\n",
              "      <th>1</th>\n",
              "      <td>0.264286</td>\n",
              "      <td>0.528571</td>\n",
              "      <td>0.070</td>\n",
              "      <td>0.537110</td>\n",
              "      <td>0.642579</td>\n",
              "      <td>0.565941</td>\n",
              "      <td>0.176308</td>\n",
              "    </tr>\n",
              "    <tr>\n",
              "      <th>2</th>\n",
              "      <td>0.050000</td>\n",
              "      <td>0.485714</td>\n",
              "      <td>0.100</td>\n",
              "      <td>0.536479</td>\n",
              "      <td>0.570058</td>\n",
              "      <td>0.588352</td>\n",
              "      <td>0.089318</td>\n",
              "    </tr>\n",
              "    <tr>\n",
              "      <th>3</th>\n",
              "      <td>0.721429</td>\n",
              "      <td>0.464286</td>\n",
              "      <td>0.215</td>\n",
              "      <td>0.474462</td>\n",
              "      <td>0.708898</td>\n",
              "      <td>0.390017</td>\n",
              "      <td>0.345770</td>\n",
              "    </tr>\n",
              "    <tr>\n",
              "      <th>4</th>\n",
              "      <td>0.000000</td>\n",
              "      <td>0.085714</td>\n",
              "      <td>0.125</td>\n",
              "      <td>0.764684</td>\n",
              "      <td>0.393181</td>\n",
              "      <td>0.431452</td>\n",
              "      <td>0.278327</td>\n",
              "    </tr>\n",
              "    <tr>\n",
              "      <th>...</th>\n",
              "      <td>...</td>\n",
              "      <td>...</td>\n",
              "      <td>...</td>\n",
              "      <td>...</td>\n",
              "      <td>...</td>\n",
              "      <td>...</td>\n",
              "      <td>...</td>\n",
              "    </tr>\n",
              "    <tr>\n",
              "      <th>1755</th>\n",
              "      <td>0.071429</td>\n",
              "      <td>0.000000</td>\n",
              "      <td>0.000</td>\n",
              "      <td>0.355451</td>\n",
              "      <td>0.899329</td>\n",
              "      <td>0.670741</td>\n",
              "      <td>0.332938</td>\n",
              "    </tr>\n",
              "    <tr>\n",
              "      <th>1756</th>\n",
              "      <td>0.771429</td>\n",
              "      <td>0.635714</td>\n",
              "      <td>0.210</td>\n",
              "      <td>0.531809</td>\n",
              "      <td>0.819906</td>\n",
              "      <td>0.448294</td>\n",
              "      <td>0.253244</td>\n",
              "    </tr>\n",
              "    <tr>\n",
              "      <th>1757</th>\n",
              "      <td>0.078571</td>\n",
              "      <td>0.221429</td>\n",
              "      <td>0.130</td>\n",
              "      <td>0.547921</td>\n",
              "      <td>0.437603</td>\n",
              "      <td>0.461981</td>\n",
              "      <td>0.287198</td>\n",
              "    </tr>\n",
              "    <tr>\n",
              "      <th>1758</th>\n",
              "      <td>0.078571</td>\n",
              "      <td>0.850000</td>\n",
              "      <td>0.995</td>\n",
              "      <td>0.132116</td>\n",
              "      <td>0.767637</td>\n",
              "      <td>0.444205</td>\n",
              "      <td>0.183467</td>\n",
              "    </tr>\n",
              "    <tr>\n",
              "      <th>1759</th>\n",
              "      <td>0.228571</td>\n",
              "      <td>0.521429</td>\n",
              "      <td>0.085</td>\n",
              "      <td>0.434583</td>\n",
              "      <td>0.560997</td>\n",
              "      <td>0.544650</td>\n",
              "      <td>0.118796</td>\n",
              "    </tr>\n",
              "  </tbody>\n",
              "</table>\n",
              "<p>1760 rows × 7 columns</p>\n",
              "</div>"
            ],
            "text/plain": [
              "             0         1      2         3         4         5         6\n",
              "0     0.121429  0.078571  0.045  0.217234  0.908990  0.485322  0.296852\n",
              "1     0.264286  0.528571  0.070  0.537110  0.642579  0.565941  0.176308\n",
              "2     0.050000  0.485714  0.100  0.536479  0.570058  0.588352  0.089318\n",
              "3     0.721429  0.464286  0.215  0.474462  0.708898  0.390017  0.345770\n",
              "4     0.000000  0.085714  0.125  0.764684  0.393181  0.431452  0.278327\n",
              "...        ...       ...    ...       ...       ...       ...       ...\n",
              "1755  0.071429  0.000000  0.000  0.355451  0.899329  0.670741  0.332938\n",
              "1756  0.771429  0.635714  0.210  0.531809  0.819906  0.448294  0.253244\n",
              "1757  0.078571  0.221429  0.130  0.547921  0.437603  0.461981  0.287198\n",
              "1758  0.078571  0.850000  0.995  0.132116  0.767637  0.444205  0.183467\n",
              "1759  0.228571  0.521429  0.085  0.434583  0.560997  0.544650  0.118796\n",
              "\n",
              "[1760 rows x 7 columns]"
            ]
          },
          "execution_count": 17,
          "metadata": {},
          "output_type": "execute_result"
        }
      ],
      "source": [
        "mx = MinMaxScaler()\n",
        "X_train = mx.fit_transform(X_train)\n",
        "X_test = mx.transform(X_test)\n",
        "pd.DataFrame(X_train)"
      ]
    },
    {
      "cell_type": "code",
      "execution_count": null,
      "id": "f1002286-619f-4f0a-abf1-869bb028c5b3",
      "metadata": {
        "id": "f1002286-619f-4f0a-abf1-869bb028c5b3",
        "outputId": "8fde8f58-ef25-496a-b46a-64d0d5e03aa6"
      },
      "outputs": [
        {
          "data": {
            "text/html": [
              "<div>\n",
              "<style scoped>\n",
              "    .dataframe tbody tr th:only-of-type {\n",
              "        vertical-align: middle;\n",
              "    }\n",
              "\n",
              "    .dataframe tbody tr th {\n",
              "        vertical-align: top;\n",
              "    }\n",
              "\n",
              "    .dataframe thead th {\n",
              "        text-align: right;\n",
              "    }\n",
              "</style>\n",
              "<table border=\"1\" class=\"dataframe\">\n",
              "  <thead>\n",
              "    <tr style=\"text-align: right;\">\n",
              "      <th></th>\n",
              "      <th>0</th>\n",
              "      <th>1</th>\n",
              "      <th>2</th>\n",
              "      <th>3</th>\n",
              "      <th>4</th>\n",
              "      <th>5</th>\n",
              "      <th>6</th>\n",
              "    </tr>\n",
              "  </thead>\n",
              "  <tbody>\n",
              "    <tr>\n",
              "      <th>0</th>\n",
              "      <td>-0.903427</td>\n",
              "      <td>-1.126162</td>\n",
              "      <td>-0.668507</td>\n",
              "      <td>-1.804692</td>\n",
              "      <td>0.936586</td>\n",
              "      <td>0.193474</td>\n",
              "      <td>0.005150</td>\n",
              "    </tr>\n",
              "    <tr>\n",
              "      <th>1</th>\n",
              "      <td>-0.367051</td>\n",
              "      <td>0.770359</td>\n",
              "      <td>-0.570590</td>\n",
              "      <td>0.386000</td>\n",
              "      <td>-0.100470</td>\n",
              "      <td>0.863918</td>\n",
              "      <td>-0.605291</td>\n",
              "    </tr>\n",
              "    <tr>\n",
              "      <th>2</th>\n",
              "      <td>-1.171614</td>\n",
              "      <td>0.589738</td>\n",
              "      <td>-0.453089</td>\n",
              "      <td>0.381678</td>\n",
              "      <td>-0.382775</td>\n",
              "      <td>1.050298</td>\n",
              "      <td>-1.045807</td>\n",
              "    </tr>\n",
              "    <tr>\n",
              "      <th>3</th>\n",
              "      <td>1.349349</td>\n",
              "      <td>0.499427</td>\n",
              "      <td>-0.002670</td>\n",
              "      <td>-0.043047</td>\n",
              "      <td>0.157688</td>\n",
              "      <td>-0.599105</td>\n",
              "      <td>0.252872</td>\n",
              "    </tr>\n",
              "    <tr>\n",
              "      <th>4</th>\n",
              "      <td>-1.359346</td>\n",
              "      <td>-1.096058</td>\n",
              "      <td>-0.355172</td>\n",
              "      <td>1.944562</td>\n",
              "      <td>-1.071303</td>\n",
              "      <td>-0.254526</td>\n",
              "      <td>-0.088658</td>\n",
              "    </tr>\n",
              "    <tr>\n",
              "      <th>...</th>\n",
              "      <td>...</td>\n",
              "      <td>...</td>\n",
              "      <td>...</td>\n",
              "      <td>...</td>\n",
              "      <td>...</td>\n",
              "      <td>...</td>\n",
              "      <td>...</td>\n",
              "    </tr>\n",
              "    <tr>\n",
              "      <th>1755</th>\n",
              "      <td>-1.091158</td>\n",
              "      <td>-1.457300</td>\n",
              "      <td>-0.844757</td>\n",
              "      <td>-0.858104</td>\n",
              "      <td>0.898979</td>\n",
              "      <td>1.735467</td>\n",
              "      <td>0.187893</td>\n",
              "    </tr>\n",
              "    <tr>\n",
              "      <th>1756</th>\n",
              "      <td>1.537081</td>\n",
              "      <td>1.221911</td>\n",
              "      <td>-0.022254</td>\n",
              "      <td>0.349697</td>\n",
              "      <td>0.589808</td>\n",
              "      <td>-0.114467</td>\n",
              "      <td>-0.215681</td>\n",
              "    </tr>\n",
              "    <tr>\n",
              "      <th>1757</th>\n",
              "      <td>-1.064339</td>\n",
              "      <td>-0.524092</td>\n",
              "      <td>-0.335589</td>\n",
              "      <td>0.460044</td>\n",
              "      <td>-0.898381</td>\n",
              "      <td>-0.000634</td>\n",
              "      <td>-0.043736</td>\n",
              "    </tr>\n",
              "    <tr>\n",
              "      <th>1758</th>\n",
              "      <td>-1.064339</td>\n",
              "      <td>2.125016</td>\n",
              "      <td>3.052342</td>\n",
              "      <td>-2.387631</td>\n",
              "      <td>0.386340</td>\n",
              "      <td>-0.148467</td>\n",
              "      <td>-0.569037</td>\n",
              "    </tr>\n",
              "    <tr>\n",
              "      <th>1759</th>\n",
              "      <td>-0.501145</td>\n",
              "      <td>0.740255</td>\n",
              "      <td>-0.511839</td>\n",
              "      <td>-0.316161</td>\n",
              "      <td>-0.418045</td>\n",
              "      <td>0.686860</td>\n",
              "      <td>-0.896531</td>\n",
              "    </tr>\n",
              "  </tbody>\n",
              "</table>\n",
              "<p>1760 rows × 7 columns</p>\n",
              "</div>"
            ],
            "text/plain": [
              "             0         1         2         3         4         5         6\n",
              "0    -0.903427 -1.126162 -0.668507 -1.804692  0.936586  0.193474  0.005150\n",
              "1    -0.367051  0.770359 -0.570590  0.386000 -0.100470  0.863918 -0.605291\n",
              "2    -1.171614  0.589738 -0.453089  0.381678 -0.382775  1.050298 -1.045807\n",
              "3     1.349349  0.499427 -0.002670 -0.043047  0.157688 -0.599105  0.252872\n",
              "4    -1.359346 -1.096058 -0.355172  1.944562 -1.071303 -0.254526 -0.088658\n",
              "...        ...       ...       ...       ...       ...       ...       ...\n",
              "1755 -1.091158 -1.457300 -0.844757 -0.858104  0.898979  1.735467  0.187893\n",
              "1756  1.537081  1.221911 -0.022254  0.349697  0.589808 -0.114467 -0.215681\n",
              "1757 -1.064339 -0.524092 -0.335589  0.460044 -0.898381 -0.000634 -0.043736\n",
              "1758 -1.064339  2.125016  3.052342 -2.387631  0.386340 -0.148467 -0.569037\n",
              "1759 -0.501145  0.740255 -0.511839 -0.316161 -0.418045  0.686860 -0.896531\n",
              "\n",
              "[1760 rows x 7 columns]"
            ]
          },
          "execution_count": 18,
          "metadata": {},
          "output_type": "execute_result"
        }
      ],
      "source": [
        "# if we have outliers Sc is recomended\n",
        "sc = StandardScaler()\n",
        "sc.fit(X_train)\n",
        "X_train = sc.transform(X_train)\n",
        "X_test=sc.transform(X_test)\n",
        "pd.DataFrame(X_train)"
      ]
    },
    {
      "cell_type": "code",
      "execution_count": null,
      "id": "26ea3ae7-50e5-451a-87c0-26badc70afd5",
      "metadata": {
        "id": "26ea3ae7-50e5-451a-87c0-26badc70afd5"
      },
      "outputs": [],
      "source": []
    },
    {
      "cell_type": "code",
      "execution_count": null,
      "id": "292f7fa4-aefc-4332-8e7a-3e44f09df46a",
      "metadata": {
        "id": "292f7fa4-aefc-4332-8e7a-3e44f09df46a"
      },
      "outputs": [],
      "source": []
    },
    {
      "cell_type": "markdown",
      "id": "0f0f6682-97c5-4174-b507-eaefb9f7a832",
      "metadata": {
        "id": "0f0f6682-97c5-4174-b507-eaefb9f7a832"
      },
      "source": [
        "#"
      ]
    },
    {
      "cell_type": "markdown",
      "id": "69d2543c-f30f-454f-82ec-bd2d91db4404",
      "metadata": {
        "id": "69d2543c-f30f-454f-82ec-bd2d91db4404"
      },
      "source": [
        "# *5. Model Training*"
      ]
    },
    {
      "cell_type": "code",
      "execution_count": null,
      "id": "7ac4e71f-1585-4bd0-8f05-f9694dc11f84",
      "metadata": {
        "id": "7ac4e71f-1585-4bd0-8f05-f9694dc11f84"
      },
      "outputs": [],
      "source": [
        "models = {\n",
        "    'LogisticRegression': LogisticRegression(),\n",
        "    'GaussianNB':GaussianNB(),\n",
        "    'SVC':SVC(),\n",
        "    'KNeighborsClassifier':KNeighborsClassifier(),\n",
        "    'DecisionTreeClassifier':DecisionTreeClassifier(),\n",
        "    'ExtraTreeClassifier':ExtraTreeClassifier(),\n",
        "    'RandomForestClassifier':RandomForestClassifier(),\n",
        "    'BaggingClassifier':BaggingClassifier(),\n",
        "    'GradientBoostingClassifier':GradientBoostingClassifier(),\n",
        "    'AdaBoostClassifier':AdaBoostClassifier()\n",
        "}"
      ]
    },
    {
      "cell_type": "code",
      "execution_count": null,
      "id": "6746adde-8e7f-4ef8-aa26-c317beabe90a",
      "metadata": {
        "id": "6746adde-8e7f-4ef8-aa26-c317beabe90a",
        "outputId": "24745de1-3871-420c-f8a1-3e1f11210687"
      },
      "outputs": [
        {
          "name": "stdout",
          "output_type": "stream",
          "text": [
            "LogisticRegression model with accuracy: 0.9636363636363636\n",
            "GaussianNB model with accuracy: 0.9954545454545455\n",
            "SVC model with accuracy: 0.9681818181818181\n",
            "KNeighborsClassifier model with accuracy: 0.9590909090909091\n",
            "DecisionTreeClassifier model with accuracy: 0.9886363636363636\n",
            "ExtraTreeClassifier model with accuracy: 0.9090909090909091\n",
            "RandomForestClassifier model with accuracy: 0.9931818181818182\n",
            "BaggingClassifier model with accuracy: 0.9886363636363636\n",
            "GradientBoostingClassifier model with accuracy: 0.9818181818181818\n",
            "AdaBoostClassifier model with accuracy: 0.1409090909090909\n"
          ]
        }
      ],
      "source": [
        "for name, model in models.items():\n",
        "    model.fit(X_train, y_train)\n",
        "    y_pred = model.predict(X_test)\n",
        "    score = accuracy_score(y_test, y_pred)\n",
        "    print(f\"{name} model with accuracy: {score}\")"
      ]
    },
    {
      "cell_type": "code",
      "execution_count": null,
      "id": "7d7bfe00-d1f2-4820-bf20-dfe48890450c",
      "metadata": {
        "id": "7d7bfe00-d1f2-4820-bf20-dfe48890450c",
        "outputId": "177124a4-c65c-4a13-c0b0-d9ee381015fc"
      },
      "outputs": [
        {
          "data": {
            "text/plain": [
              "0.9931818181818182"
            ]
          },
          "execution_count": 21,
          "metadata": {},
          "output_type": "execute_result"
        }
      ],
      "source": [
        "randclf = RandomForestClassifier()\n",
        "randclf.fit(X_train, y_train)\n",
        "y_pred = randclf.predict(X_test)\n",
        "accuracy_score(y_test, y_pred)"
      ]
    },
    {
      "cell_type": "markdown",
      "id": "a29c9a25-2d78-41cd-b69e-a0f7f79690e9",
      "metadata": {
        "id": "a29c9a25-2d78-41cd-b69e-a0f7f79690e9"
      },
      "source": [
        "#"
      ]
    },
    {
      "cell_type": "markdown",
      "id": "c44b9a4a-7953-47dc-af03-9fa382de80df",
      "metadata": {
        "id": "c44b9a4a-7953-47dc-af03-9fa382de80df"
      },
      "source": [
        "# *6. Prediction System*"
      ]
    },
    {
      "cell_type": "code",
      "execution_count": null,
      "id": "04c5e098-0798-4fa9-8b5d-a7f87ec7bb16",
      "metadata": {
        "id": "04c5e098-0798-4fa9-8b5d-a7f87ec7bb16"
      },
      "outputs": [],
      "source": [
        "def recommendation(N,P,K,temperature,humidity,ph,rainfall):\n",
        "    features = np.array([[N,P,K,temperature,humidity,ph,rainfall]])\n",
        "    mx_features = mx.fit_transform(features)\n",
        "    sc_mx_features = sc.fit_transform(mx_features)\n",
        "    prediction = randclf.predict(sc_mx_features).reshape(1,-1)\n",
        "    return prediction[0]\n"
      ]
    },
    {
      "cell_type": "code",
      "execution_count": null,
      "id": "e18652d9-efa2-419f-afd0-17e62cbd4073",
      "metadata": {
        "id": "e18652d9-efa2-419f-afd0-17e62cbd4073",
        "outputId": "ea31196e-b4d5-4315-fcc9-ba7ad52062ea"
      },
      "outputs": [
        {
          "data": {
            "text/plain": [
              "array([6])"
            ]
          },
          "execution_count": 25,
          "metadata": {},
          "output_type": "execute_result"
        }
      ],
      "source": [
        "N=90\n",
        "P= 42\n",
        "K= 43\n",
        "temperature= 20.879744\n",
        "humidity=82.002744\n",
        "ph=6.502985\n",
        "rainfall=202.935536\n",
        "\n",
        "predict = recommendation(N,P,K,temperature,humidity,ph,rainfall)\n",
        "predict"
      ]
    },
    {
      "cell_type": "code",
      "execution_count": null,
      "id": "c7dc59a2-97cb-47e0-a579-e30a6e9cd605",
      "metadata": {
        "id": "c7dc59a2-97cb-47e0-a579-e30a6e9cd605"
      },
      "outputs": [],
      "source": [
        "\n"
      ]
    },
    {
      "cell_type": "code",
      "execution_count": null,
      "id": "c5035204-340b-4e51-99df-6ef4d0afc560",
      "metadata": {
        "id": "c5035204-340b-4e51-99df-6ef4d0afc560"
      },
      "outputs": [],
      "source": []
    }
  ],
  "metadata": {
    "kernelspec": {
      "display_name": "Python 3 (ipykernel)",
      "language": "python",
      "name": "python3"
    },
    "language_info": {
      "codemirror_mode": {
        "name": "ipython",
        "version": 3
      },
      "file_extension": ".py",
      "mimetype": "text/x-python",
      "name": "python",
      "nbconvert_exporter": "python",
      "pygments_lexer": "ipython3",
      "version": "3.11.5"
    },
    "colab": {
      "provenance": [],
      "include_colab_link": true
    }
  },
  "nbformat": 4,
  "nbformat_minor": 5
}