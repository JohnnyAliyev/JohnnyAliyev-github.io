{
  "cells": [
    {
      "cell_type": "markdown",
      "metadata": {
        "id": "view-in-github",
        "colab_type": "text"
      },
      "source": [
        "<a href=\"https://colab.research.google.com/github/JohnnyAliyev/JohnnyAliyev-github.io/blob/main/6_Email_Spam_Detection_and_Classification_Using_Naive_Bayes_Algorithm_Enhancing_Email_Filtering_Efficiency.ipynb\" target=\"_parent\"><img src=\"https://colab.research.google.com/assets/colab-badge.svg\" alt=\"Open In Colab\"/></a>"
      ]
    },
    {
      "cell_type": "markdown",
      "source": [],
      "metadata": {
        "id": "lSh8stw2tMgk"
      },
      "id": "lSh8stw2tMgk"
    },
    {
      "cell_type": "markdown",
      "source": [
        " <a id=\"1\"></a>\n",
        "# <div style=\"text-align:center; border-radius:15px 50px; padding:7px; color:white; margin:0; font-size:100%; font-family:Pacifico; background-color:#284b50; overflow:hidden\"><b>Email Spam Detection and Classification Using Naive Bayes Algorithm: Enhancing Email Filtering Efficiency.</b></div>"
      ],
      "metadata": {
        "id": "SKv-upCdtNR1"
      },
      "id": "SKv-upCdtNR1"
    },
    {
      "cell_type": "markdown",
      "source": [],
      "metadata": {
        "id": "zhxRR45XtcYb"
      },
      "id": "zhxRR45XtcYb"
    },
    {
      "cell_type": "markdown",
      "id": "c1c511a5-8de2-495f-a31f-534074fc841a",
      "metadata": {
        "id": "c1c511a5-8de2-495f-a31f-534074fc841a"
      },
      "source": [
        "# *1. Import dataset*"
      ]
    },
    {
      "cell_type": "code",
      "execution_count": null,
      "id": "bd2411ce-22b7-48ac-88bf-d9d1c189e36c",
      "metadata": {
        "id": "bd2411ce-22b7-48ac-88bf-d9d1c189e36c"
      },
      "outputs": [],
      "source": [
        "import pandas as pd\n",
        "import numpy as np\n",
        "import matplotlib.pyplot as plt\n",
        "import seaborn as sns"
      ]
    },
    {
      "cell_type": "markdown",
      "id": "912aa4f8-8871-4d6f-870e-19ec5e9ea3b6",
      "metadata": {
        "id": "912aa4f8-8871-4d6f-870e-19ec5e9ea3b6"
      },
      "source": [
        "#"
      ]
    },
    {
      "cell_type": "markdown",
      "id": "897e92a8-c7e4-4309-b2db-a0e0e3d07e09",
      "metadata": {
        "id": "897e92a8-c7e4-4309-b2db-a0e0e3d07e09"
      },
      "source": [
        "# *2. Describe data*"
      ]
    },
    {
      "cell_type": "code",
      "execution_count": null,
      "id": "276d9b11-8d2f-44f3-a736-0ee9c624030b",
      "metadata": {
        "scrolled": true,
        "id": "276d9b11-8d2f-44f3-a736-0ee9c624030b",
        "outputId": "a0fd0555-dbfd-486f-f09b-9ec43d5350f6"
      },
      "outputs": [
        {
          "data": {
            "text/html": [
              "<div>\n",
              "<style scoped>\n",
              "    .dataframe tbody tr th:only-of-type {\n",
              "        vertical-align: middle;\n",
              "    }\n",
              "\n",
              "    .dataframe tbody tr th {\n",
              "        vertical-align: top;\n",
              "    }\n",
              "\n",
              "    .dataframe thead th {\n",
              "        text-align: right;\n",
              "    }\n",
              "</style>\n",
              "<table border=\"1\" class=\"dataframe\">\n",
              "  <thead>\n",
              "    <tr style=\"text-align: right;\">\n",
              "      <th></th>\n",
              "      <th>text</th>\n",
              "      <th>spam</th>\n",
              "    </tr>\n",
              "  </thead>\n",
              "  <tbody>\n",
              "    <tr>\n",
              "      <th>0</th>\n",
              "      <td>Subject: naturally irresistible your corporate...</td>\n",
              "      <td>1</td>\n",
              "    </tr>\n",
              "    <tr>\n",
              "      <th>1</th>\n",
              "      <td>Subject: the stock trading gunslinger  fanny i...</td>\n",
              "      <td>1</td>\n",
              "    </tr>\n",
              "    <tr>\n",
              "      <th>2</th>\n",
              "      <td>Subject: unbelievable new homes made easy  im ...</td>\n",
              "      <td>1</td>\n",
              "    </tr>\n",
              "    <tr>\n",
              "      <th>3</th>\n",
              "      <td>Subject: 4 color printing special  request add...</td>\n",
              "      <td>1</td>\n",
              "    </tr>\n",
              "    <tr>\n",
              "      <th>4</th>\n",
              "      <td>Subject: do not have money , get software cds ...</td>\n",
              "      <td>1</td>\n",
              "    </tr>\n",
              "  </tbody>\n",
              "</table>\n",
              "</div>"
            ],
            "text/plain": [
              "                                                text  spam\n",
              "0  Subject: naturally irresistible your corporate...     1\n",
              "1  Subject: the stock trading gunslinger  fanny i...     1\n",
              "2  Subject: unbelievable new homes made easy  im ...     1\n",
              "3  Subject: 4 color printing special  request add...     1\n",
              "4  Subject: do not have money , get software cds ...     1"
            ]
          },
          "execution_count": 2,
          "metadata": {},
          "output_type": "execute_result"
        }
      ],
      "source": [
        "spam_df=pd.read_csv('Downloads/8_ml_project/Project 6/emails.csv')\n",
        "spam_df.head()"
      ]
    },
    {
      "cell_type": "code",
      "execution_count": null,
      "id": "9f6eb701-cd25-401f-99a7-15cfebec4390",
      "metadata": {
        "id": "9f6eb701-cd25-401f-99a7-15cfebec4390",
        "outputId": "aa3424a1-165e-4f6f-8e0d-fe97aa180390"
      },
      "outputs": [
        {
          "data": {
            "text/html": [
              "<div>\n",
              "<style scoped>\n",
              "    .dataframe tbody tr th:only-of-type {\n",
              "        vertical-align: middle;\n",
              "    }\n",
              "\n",
              "    .dataframe tbody tr th {\n",
              "        vertical-align: top;\n",
              "    }\n",
              "\n",
              "    .dataframe thead th {\n",
              "        text-align: right;\n",
              "    }\n",
              "</style>\n",
              "<table border=\"1\" class=\"dataframe\">\n",
              "  <thead>\n",
              "    <tr style=\"text-align: right;\">\n",
              "      <th></th>\n",
              "      <th>spam</th>\n",
              "    </tr>\n",
              "  </thead>\n",
              "  <tbody>\n",
              "    <tr>\n",
              "      <th>count</th>\n",
              "      <td>5728.000000</td>\n",
              "    </tr>\n",
              "    <tr>\n",
              "      <th>mean</th>\n",
              "      <td>0.238827</td>\n",
              "    </tr>\n",
              "    <tr>\n",
              "      <th>std</th>\n",
              "      <td>0.426404</td>\n",
              "    </tr>\n",
              "    <tr>\n",
              "      <th>min</th>\n",
              "      <td>0.000000</td>\n",
              "    </tr>\n",
              "    <tr>\n",
              "      <th>25%</th>\n",
              "      <td>0.000000</td>\n",
              "    </tr>\n",
              "    <tr>\n",
              "      <th>50%</th>\n",
              "      <td>0.000000</td>\n",
              "    </tr>\n",
              "    <tr>\n",
              "      <th>75%</th>\n",
              "      <td>0.000000</td>\n",
              "    </tr>\n",
              "    <tr>\n",
              "      <th>max</th>\n",
              "      <td>1.000000</td>\n",
              "    </tr>\n",
              "  </tbody>\n",
              "</table>\n",
              "</div>"
            ],
            "text/plain": [
              "              spam\n",
              "count  5728.000000\n",
              "mean      0.238827\n",
              "std       0.426404\n",
              "min       0.000000\n",
              "25%       0.000000\n",
              "50%       0.000000\n",
              "75%       0.000000\n",
              "max       1.000000"
            ]
          },
          "execution_count": 3,
          "metadata": {},
          "output_type": "execute_result"
        }
      ],
      "source": [
        " spam_df.describe()"
      ]
    },
    {
      "cell_type": "markdown",
      "id": "3ad72265-ce14-4858-8b4a-d16ad62a662b",
      "metadata": {
        "id": "3ad72265-ce14-4858-8b4a-d16ad62a662b"
      },
      "source": [
        "#"
      ]
    },
    {
      "cell_type": "markdown",
      "id": "69cdf85b-f953-4687-9d20-232e5ea7f685",
      "metadata": {
        "id": "69cdf85b-f953-4687-9d20-232e5ea7f685"
      },
      "source": [
        "# *3. Visualization data*\n"
      ]
    },
    {
      "cell_type": "code",
      "execution_count": null,
      "id": "180ac10a-4aca-4093-a208-e2aa124e7756",
      "metadata": {
        "id": "180ac10a-4aca-4093-a208-e2aa124e7756",
        "outputId": "95fb84e2-d001-44d1-f5aa-d94d372ce760"
      },
      "outputs": [
        {
          "data": {
            "text/html": [
              "<div>\n",
              "<style scoped>\n",
              "    .dataframe tbody tr th:only-of-type {\n",
              "        vertical-align: middle;\n",
              "    }\n",
              "\n",
              "    .dataframe tbody tr th {\n",
              "        vertical-align: top;\n",
              "    }\n",
              "\n",
              "    .dataframe thead th {\n",
              "        text-align: right;\n",
              "    }\n",
              "</style>\n",
              "<table border=\"1\" class=\"dataframe\">\n",
              "  <thead>\n",
              "    <tr style=\"text-align: right;\">\n",
              "      <th></th>\n",
              "      <th>text</th>\n",
              "      <th>spam</th>\n",
              "    </tr>\n",
              "  </thead>\n",
              "  <tbody>\n",
              "    <tr>\n",
              "      <th>1368</th>\n",
              "      <td>Subject: hello guys ,  i ' m \" bugging you \" f...</td>\n",
              "      <td>0</td>\n",
              "    </tr>\n",
              "    <tr>\n",
              "      <th>1369</th>\n",
              "      <td>Subject: sacramento weather station  fyi  - - ...</td>\n",
              "      <td>0</td>\n",
              "    </tr>\n",
              "    <tr>\n",
              "      <th>1370</th>\n",
              "      <td>Subject: from the enron india newsdesk - jan 1...</td>\n",
              "      <td>0</td>\n",
              "    </tr>\n",
              "    <tr>\n",
              "      <th>1371</th>\n",
              "      <td>Subject: re : powerisk 2001 - your invitation ...</td>\n",
              "      <td>0</td>\n",
              "    </tr>\n",
              "    <tr>\n",
              "      <th>1372</th>\n",
              "      <td>Subject: re : resco database and customer capt...</td>\n",
              "      <td>0</td>\n",
              "    </tr>\n",
              "  </tbody>\n",
              "</table>\n",
              "</div>"
            ],
            "text/plain": [
              "                                                   text  spam\n",
              "1368  Subject: hello guys ,  i ' m \" bugging you \" f...     0\n",
              "1369  Subject: sacramento weather station  fyi  - - ...     0\n",
              "1370  Subject: from the enron india newsdesk - jan 1...     0\n",
              "1371  Subject: re : powerisk 2001 - your invitation ...     0\n",
              "1372  Subject: re : resco database and customer capt...     0"
            ]
          },
          "execution_count": 4,
          "metadata": {},
          "output_type": "execute_result"
        }
      ],
      "source": [
        "ham=spam_df[spam_df['spam']==0]\n",
        "ham.head()"
      ]
    },
    {
      "cell_type": "code",
      "execution_count": null,
      "id": "35e7bd98-ea2d-45f7-aa12-c0d7717c7198",
      "metadata": {
        "id": "35e7bd98-ea2d-45f7-aa12-c0d7717c7198",
        "outputId": "28f80ca7-2ce5-425c-d8dd-7e58b3cdc652"
      },
      "outputs": [
        {
          "data": {
            "text/html": [
              "<div>\n",
              "<style scoped>\n",
              "    .dataframe tbody tr th:only-of-type {\n",
              "        vertical-align: middle;\n",
              "    }\n",
              "\n",
              "    .dataframe tbody tr th {\n",
              "        vertical-align: top;\n",
              "    }\n",
              "\n",
              "    .dataframe thead th {\n",
              "        text-align: right;\n",
              "    }\n",
              "</style>\n",
              "<table border=\"1\" class=\"dataframe\">\n",
              "  <thead>\n",
              "    <tr style=\"text-align: right;\">\n",
              "      <th></th>\n",
              "      <th>text</th>\n",
              "      <th>spam</th>\n",
              "    </tr>\n",
              "  </thead>\n",
              "  <tbody>\n",
              "    <tr>\n",
              "      <th>0</th>\n",
              "      <td>Subject: naturally irresistible your corporate...</td>\n",
              "      <td>1</td>\n",
              "    </tr>\n",
              "    <tr>\n",
              "      <th>1</th>\n",
              "      <td>Subject: the stock trading gunslinger  fanny i...</td>\n",
              "      <td>1</td>\n",
              "    </tr>\n",
              "    <tr>\n",
              "      <th>2</th>\n",
              "      <td>Subject: unbelievable new homes made easy  im ...</td>\n",
              "      <td>1</td>\n",
              "    </tr>\n",
              "    <tr>\n",
              "      <th>3</th>\n",
              "      <td>Subject: 4 color printing special  request add...</td>\n",
              "      <td>1</td>\n",
              "    </tr>\n",
              "    <tr>\n",
              "      <th>4</th>\n",
              "      <td>Subject: do not have money , get software cds ...</td>\n",
              "      <td>1</td>\n",
              "    </tr>\n",
              "  </tbody>\n",
              "</table>\n",
              "</div>"
            ],
            "text/plain": [
              "                                                text  spam\n",
              "0  Subject: naturally irresistible your corporate...     1\n",
              "1  Subject: the stock trading gunslinger  fanny i...     1\n",
              "2  Subject: unbelievable new homes made easy  im ...     1\n",
              "3  Subject: 4 color printing special  request add...     1\n",
              "4  Subject: do not have money , get software cds ...     1"
            ]
          },
          "execution_count": 5,
          "metadata": {},
          "output_type": "execute_result"
        }
      ],
      "source": [
        "spam=spam_df[spam_df['spam']==1]\n",
        "spam.head()"
      ]
    },
    {
      "cell_type": "code",
      "execution_count": null,
      "id": "f5794f38-4b10-429a-91f2-8781b2e1a365",
      "metadata": {
        "id": "f5794f38-4b10-429a-91f2-8781b2e1a365",
        "outputId": "78ae6b86-54ed-4605-938a-d370c4cf8f99"
      },
      "outputs": [
        {
          "name": "stdout",
          "output_type": "stream",
          "text": [
            "Ham Percentage =  76.11731843575419 %\n"
          ]
        }
      ],
      "source": [
        "print('Ham Percentage = ',(len(ham)/len(spam_df))*100,'%')"
      ]
    },
    {
      "cell_type": "code",
      "execution_count": null,
      "id": "fe52c7d9-56c3-40f5-98d2-5ae655294d61",
      "metadata": {
        "id": "fe52c7d9-56c3-40f5-98d2-5ae655294d61",
        "outputId": "c880e532-ef1c-4ea4-8c4b-e8a0bb5d74ef"
      },
      "outputs": [
        {
          "name": "stdout",
          "output_type": "stream",
          "text": [
            "Spam Percentage =  23.88268156424581 %\n"
          ]
        }
      ],
      "source": [
        "print('Spam Percentage = ',(len(spam)/len(spam_df))*100,'%')"
      ]
    },
    {
      "cell_type": "code",
      "execution_count": null,
      "id": "2cc35013-88ae-4727-a231-40ecbce4a753",
      "metadata": {
        "id": "2cc35013-88ae-4727-a231-40ecbce4a753",
        "outputId": "89f80e28-b7e9-4a34-df31-a09ef2c78644"
      },
      "outputs": [
        {
          "data": {
            "text/plain": [
              "<Axes: xlabel='spam', ylabel='count'>"
            ]
          },
          "execution_count": 8,
          "metadata": {},
          "output_type": "execute_result"
        },
        {
          "data": {
            "image/png": "[encoded data removed]",
            "text/plain": [
              "<Figure size 640x480 with 1 Axes>"
            ]
          },
          "metadata": {},
          "output_type": "display_data"
        }
      ],
      "source": [
        "sns.countplot(x='spam', data=spam_df)"
      ]
    },
    {
      "cell_type": "markdown",
      "id": "ab5816c7-79f8-4a8b-b718-e85f51ad1e17",
      "metadata": {
        "id": "ab5816c7-79f8-4a8b-b718-e85f51ad1e17"
      },
      "source": [
        "#"
      ]
    },
    {
      "cell_type": "markdown",
      "id": "d95c44da-d130-4041-be83-8a8a3b299167",
      "metadata": {
        "id": "d95c44da-d130-4041-be83-8a8a3b299167"
      },
      "source": [
        "#"
      ]
    },
    {
      "cell_type": "markdown",
      "id": "1cd153bb-423c-44b7-a467-3b5453c82bd2",
      "metadata": {
        "id": "1cd153bb-423c-44b7-a467-3b5453c82bd2"
      },
      "source": [
        "# *4. Create testing and training dataset  //  data cleaning\n"
      ]
    },
    {
      "cell_type": "code",
      "execution_count": null,
      "id": "d431871c-2edc-4e0c-9b69-38ac2607d48f",
      "metadata": {
        "id": "d431871c-2edc-4e0c-9b69-38ac2607d48f"
      },
      "outputs": [],
      "source": [
        "from sklearn.feature_extraction.text import CountVectorizer\n",
        "\n",
        "# just example\n",
        "sample_data=['This is the first  the document', 'This is the second document','He is Javid Aliyev']\n",
        "vector=CountVectorizer()"
      ]
    },
    {
      "cell_type": "code",
      "execution_count": null,
      "id": "3e1fd146-11c2-45a2-b863-b0eaac2dece2",
      "metadata": {
        "id": "3e1fd146-11c2-45a2-b863-b0eaac2dece2",
        "outputId": "0bcf7c75-1ad5-461c-fc03-1b259aab0991"
      },
      "outputs": [
        {
          "name": "stdout",
          "output_type": "stream",
          "text": [
            "[[0 1 1 0 1 0 0 2 1]\n",
            " [0 1 0 0 1 0 1 1 1]\n",
            " [1 0 0 1 1 1 0 0 0]]\n"
          ]
        }
      ],
      "source": [
        "X=vector.fit_transform(sample_data)\n",
        "print(X.toarray())"
      ]
    },
    {
      "cell_type": "code",
      "execution_count": null,
      "id": "34459215-444a-46a6-9fe7-0ae8a07fbafe",
      "metadata": {
        "id": "34459215-444a-46a6-9fe7-0ae8a07fbafe",
        "outputId": "01c03dd5-deb4-4d9c-8c7b-2bd46ac4204a"
      },
      "outputs": [
        {
          "name": "stdout",
          "output_type": "stream",
          "text": [
            "['aliyev' 'document' 'first' 'he' 'is' 'javid' 'second' 'the' 'this']\n"
          ]
        }
      ],
      "source": [
        "print(vector.get_feature_names_out())"
      ]
    },
    {
      "cell_type": "code",
      "execution_count": null,
      "id": "353a1292-eeda-4999-9eb6-c4d905de8783",
      "metadata": {
        "id": "353a1292-eeda-4999-9eb6-c4d905de8783",
        "outputId": "b3d3722e-a1ec-4914-b8d1-3a61ea8d581c"
      },
      "outputs": [
        {
          "name": "stdout",
          "output_type": "stream",
          "text": [
            "   aliyev  document  first  he  is  javid  second  the  this\n",
            "0       0         1      1   0   1      0       0    2     1\n",
            "1       0         1      0   0   1      0       1    1     1\n",
            "2       1         0      0   1   1      1       0    0     0\n"
          ]
        }
      ],
      "source": [
        "# Create a DataFrame from the dense matrix\n",
        "df1 = pd.DataFrame(X.toarray(), columns=vector.get_feature_names_out())\n",
        "\n",
        "# Print the DataFrame\n",
        "print(df1)"
      ]
    },
    {
      "cell_type": "code",
      "execution_count": null,
      "id": "cbb73d10-396d-4af5-92f0-80f270895b44",
      "metadata": {
        "id": "cbb73d10-396d-4af5-92f0-80f270895b44",
        "outputId": "b1fede32-3fd2-4e1d-b0f1-de4575348643"
      },
      "outputs": [
        {
          "name": "stdout",
          "output_type": "stream",
          "text": [
            "['00' '000' '0000' ... 'zzn' 'zzncacst' 'zzzz']\n"
          ]
        }
      ],
      "source": [
        "# for spam\n",
        "vectorizer=CountVectorizer()\n",
        "spamham_countvectorizer=vectorizer.fit_transform(spam_df['text'])\n",
        "print(vectorizer.get_feature_names_out())"
      ]
    },
    {
      "cell_type": "code",
      "execution_count": null,
      "id": "3869f4b1-de14-43da-ac37-f75ad2707f5c",
      "metadata": {
        "id": "3869f4b1-de14-43da-ac37-f75ad2707f5c",
        "outputId": "be1be153-f04c-4aa1-b66c-b6f84dd0d369"
      },
      "outputs": [
        {
          "name": "stdout",
          "output_type": "stream",
          "text": [
            "[[0 0 0 ... 0 0 0]\n",
            " [0 0 0 ... 0 0 0]\n",
            " [0 0 0 ... 0 0 0]\n",
            " ...\n",
            " [4 0 0 ... 0 0 0]\n",
            " [0 0 0 ... 0 0 0]\n",
            " [0 0 0 ... 0 0 0]]\n"
          ]
        }
      ],
      "source": [
        "print(spamham_countvectorizer.toarray())"
      ]
    },
    {
      "cell_type": "markdown",
      "id": "94a86bd0",
      "metadata": {
        "id": "94a86bd0"
      },
      "source": [
        "#"
      ]
    },
    {
      "cell_type": "markdown",
      "id": "aeef0445",
      "metadata": {
        "id": "aeef0445"
      },
      "source": [
        "# *5 . Training the model*"
      ]
    },
    {
      "cell_type": "code",
      "execution_count": null,
      "id": "8e06791b",
      "metadata": {
        "id": "8e06791b",
        "outputId": "760440c1-7fb0-419f-df40-14618dcb3ae4"
      },
      "outputs": [
        {
          "data": {
            "text/plain": [
              "array([1, 1, 1, ..., 0, 0, 0])"
            ]
          },
          "execution_count": 16,
          "metadata": {},
          "output_type": "execute_result"
        }
      ],
      "source": [
        "label=spam_df['spam'].values\n",
        "label"
      ]
    },
    {
      "cell_type": "code",
      "execution_count": null,
      "id": "e293f4bb",
      "metadata": {
        "id": "e293f4bb",
        "outputId": "0c8723c0-e734-4325-d990-716fe1a8eed7"
      },
      "outputs": [
        {
          "data": {
            "text/html": [
              "<style>#sk-container-id-1 {color: black;}#sk-container-id-1 pre{padding: 0;}#sk-container-id-1 div.sk-toggleable {background-color: white;}#sk-container-id-1 label.sk-toggleable__label {cursor: pointer;display: block;width: 100%;margin-bottom: 0;padding: 0.3em;box-sizing: border-box;text-align: center;}#sk-container-id-1 label.sk-toggleable__label-arrow:before {content: \"▸\";float: left;margin-right: 0.25em;color: #696969;}#sk-container-id-1 label.sk-toggleable__label-arrow:hover:before {color: black;}#sk-container-id-1 div.sk-estimator:hover label.sk-toggleable__label-arrow:before {color: black;}#sk-container-id-1 div.sk-toggleable__content {max-height: 0;max-width: 0;overflow: hidden;text-align: left;background-color: #f0f8ff;}#sk-container-id-1 div.sk-toggleable__content pre {margin: 0.2em;color: black;border-radius: 0.25em;background-color: #f0f8ff;}#sk-container-id-1 input.sk-toggleable__control:checked~div.sk-toggleable__content {max-height: 200px;max-width: 100%;overflow: auto;}#sk-container-id-1 input.sk-toggleable__control:checked~label.sk-toggleable__label-arrow:before {content: \"▾\";}#sk-container-id-1 div.sk-estimator input.sk-toggleable__control:checked~label.sk-toggleable__label {background-color: #d4ebff;}#sk-container-id-1 div.sk-label input.sk-toggleable__control:checked~label.sk-toggleable__label {background-color: #d4ebff;}#sk-container-id-1 input.sk-hidden--visually {border: 0;clip: rect(1px 1px 1px 1px);clip: rect(1px, 1px, 1px, 1px);height: 1px;margin: -1px;overflow: hidden;padding: 0;position: absolute;width: 1px;}#sk-container-id-1 div.sk-estimator {font-family: monospace;background-color: #f0f8ff;border: 1px dotted black;border-radius: 0.25em;box-sizing: border-box;margin-bottom: 0.5em;}#sk-container-id-1 div.sk-estimator:hover {background-color: #d4ebff;}#sk-container-id-1 div.sk-parallel-item::after {content: \"\";width: 100%;border-bottom: 1px solid gray;flex-grow: 1;}#sk-container-id-1 div.sk-label:hover label.sk-toggleable__label {background-color: #d4ebff;}#sk-container-id-1 div.sk-serial::before {content: \"\";position: absolute;border-left: 1px solid gray;box-sizing: border-box;top: 0;bottom: 0;left: 50%;z-index: 0;}#sk-container-id-1 div.sk-serial {display: flex;flex-direction: column;align-items: center;background-color: white;padding-right: 0.2em;padding-left: 0.2em;position: relative;}#sk-container-id-1 div.sk-item {position: relative;z-index: 1;}#sk-container-id-1 div.sk-parallel {display: flex;align-items: stretch;justify-content: center;background-color: white;position: relative;}#sk-container-id-1 div.sk-item::before, #sk-container-id-1 div.sk-parallel-item::before {content: \"\";position: absolute;border-left: 1px solid gray;box-sizing: border-box;top: 0;bottom: 0;left: 50%;z-index: -1;}#sk-container-id-1 div.sk-parallel-item {display: flex;flex-direction: column;z-index: 1;position: relative;background-color: white;}#sk-container-id-1 div.sk-parallel-item:first-child::after {align-self: flex-end;width: 50%;}#sk-container-id-1 div.sk-parallel-item:last-child::after {align-self: flex-start;width: 50%;}#sk-container-id-1 div.sk-parallel-item:only-child::after {width: 0;}#sk-container-id-1 div.sk-dashed-wrapped {border: 1px dashed gray;margin: 0 0.4em 0.5em 0.4em;box-sizing: border-box;padding-bottom: 0.4em;background-color: white;}#sk-container-id-1 div.sk-label label {font-family: monospace;font-weight: bold;display: inline-block;line-height: 1.2em;}#sk-container-id-1 div.sk-label-container {text-align: center;}#sk-container-id-1 div.sk-container {/* jupyter's `normalize.less` sets `[hidden] { display: none; }` but bootstrap.min.css set `[hidden] { display: none !important; }` so we also need the `!important` here to be able to override the default hidden behavior on the sphinx rendered scikit-learn.org. See: https://github.com/scikit-learn/scikit-learn/issues/21755 */display: inline-block !important;position: relative;}#sk-container-id-1 div.sk-text-repr-fallback {display: none;}</style><div id=\"sk-container-id-1\" class=\"sk-top-container\"><div class=\"sk-text-repr-fallback\"><pre>MultinomialNB()</pre><b>In a Jupyter environment, please rerun this cell to show the HTML representation or trust the notebook. <br />On GitHub, the HTML representation is unable to render, please try loading this page with nbviewer.org.</b></div><div class=\"sk-container\" hidden><div class=\"sk-item\"><div class=\"sk-estimator sk-toggleable\"><input class=\"sk-toggleable__control sk-hidden--visually\" id=\"sk-estimator-id-1\" type=\"checkbox\" checked><label for=\"sk-estimator-id-1\" class=\"sk-toggleable__label sk-toggleable__label-arrow\">MultinomialNB</label><div class=\"sk-toggleable__content\"><pre>MultinomialNB()</pre></div></div></div></div></div>"
            ],
            "text/plain": [
              "MultinomialNB()"
            ]
          },
          "execution_count": 17,
          "metadata": {},
          "output_type": "execute_result"
        }
      ],
      "source": [
        "\n",
        "from sklearn.naive_bayes import MultinomialNB\n",
        "NB_classifier=MultinomialNB()\n",
        "NB_classifier.fit(spamham_countvectorizer,label)\n"
      ]
    },
    {
      "cell_type": "code",
      "execution_count": null,
      "id": "d377b88d",
      "metadata": {
        "id": "d377b88d",
        "outputId": "eb306bd1-67b4-4742-bee0-feb32c979938"
      },
      "outputs": [
        {
          "name": "stdout",
          "output_type": "stream",
          "text": [
            "[[0 0 0 ... 0 0 0]\n",
            " [0 0 0 ... 0 0 0]]\n"
          ]
        }
      ],
      "source": [
        "testing_sample=['Free money', 'Hi Kim, Please let me know  if you need any further information']\n",
        "testing_sample_conv=vectorizer.transform(testing_sample)\n",
        "print(testing_sample_conv.toarray())"
      ]
    },
    {
      "cell_type": "code",
      "execution_count": null,
      "id": "859537fa",
      "metadata": {
        "id": "859537fa",
        "outputId": "36f14afa-eb0a-4ab9-db28-a5da328dad6d"
      },
      "outputs": [
        {
          "data": {
            "text/plain": [
              "array([1, 0])"
            ]
          },
          "execution_count": 25,
          "metadata": {},
          "output_type": "execute_result"
        }
      ],
      "source": [
        "test_predict=NB_classifier.predict(testing_sample_conv)\n",
        "test_predict"
      ]
    },
    {
      "cell_type": "code",
      "execution_count": null,
      "id": "793843d3",
      "metadata": {
        "id": "793843d3"
      },
      "outputs": [],
      "source": [
        "x=spamham_countvectorizer\n",
        "y=label"
      ]
    },
    {
      "cell_type": "code",
      "execution_count": null,
      "id": "68856926",
      "metadata": {
        "id": "68856926",
        "outputId": "4ed55b67-b4db-4f14-eb4d-69776b8aa1c6"
      },
      "outputs": [
        {
          "data": {
            "text/plain": [
              "(5728, 37303)"
            ]
          },
          "execution_count": 27,
          "metadata": {},
          "output_type": "execute_result"
        }
      ],
      "source": [
        "x.shape"
      ]
    },
    {
      "cell_type": "code",
      "execution_count": null,
      "id": "a65ed51f",
      "metadata": {
        "id": "a65ed51f",
        "outputId": "f945fa8d-fe7f-4130-ff87-f6b1c1779bef"
      },
      "outputs": [
        {
          "data": {
            "text/plain": [
              "(5728,)"
            ]
          },
          "execution_count": 28,
          "metadata": {},
          "output_type": "execute_result"
        }
      ],
      "source": [
        "y.shape"
      ]
    },
    {
      "cell_type": "code",
      "execution_count": null,
      "id": "fa1318fb",
      "metadata": {
        "id": "fa1318fb"
      },
      "outputs": [],
      "source": [
        "from sklearn.model_selection import train_test_split\n",
        "X_train, X_test,y_train, y_test=train_test_split( x,y,test_size=0.2)"
      ]
    },
    {
      "cell_type": "code",
      "execution_count": null,
      "id": "0712caf7",
      "metadata": {
        "id": "0712caf7",
        "outputId": "09c538e6-8cae-4f1d-c6aa-1aa95f7caac9"
      },
      "outputs": [
        {
          "data": {
            "text/html": [
              "<style>#sk-container-id-4 {color: black;}#sk-container-id-4 pre{padding: 0;}#sk-container-id-4 div.sk-toggleable {background-color: white;}#sk-container-id-4 label.sk-toggleable__label {cursor: pointer;display: block;width: 100%;margin-bottom: 0;padding: 0.3em;box-sizing: border-box;text-align: center;}#sk-container-id-4 label.sk-toggleable__label-arrow:before {content: \"▸\";float: left;margin-right: 0.25em;color: #696969;}#sk-container-id-4 label.sk-toggleable__label-arrow:hover:before {color: black;}#sk-container-id-4 div.sk-estimator:hover label.sk-toggleable__label-arrow:before {color: black;}#sk-container-id-4 div.sk-toggleable__content {max-height: 0;max-width: 0;overflow: hidden;text-align: left;background-color: #f0f8ff;}#sk-container-id-4 div.sk-toggleable__content pre {margin: 0.2em;color: black;border-radius: 0.25em;background-color: #f0f8ff;}#sk-container-id-4 input.sk-toggleable__control:checked~div.sk-toggleable__content {max-height: 200px;max-width: 100%;overflow: auto;}#sk-container-id-4 input.sk-toggleable__control:checked~label.sk-toggleable__label-arrow:before {content: \"▾\";}#sk-container-id-4 div.sk-estimator input.sk-toggleable__control:checked~label.sk-toggleable__label {background-color: #d4ebff;}#sk-container-id-4 div.sk-label input.sk-toggleable__control:checked~label.sk-toggleable__label {background-color: #d4ebff;}#sk-container-id-4 input.sk-hidden--visually {border: 0;clip: rect(1px 1px 1px 1px);clip: rect(1px, 1px, 1px, 1px);height: 1px;margin: -1px;overflow: hidden;padding: 0;position: absolute;width: 1px;}#sk-container-id-4 div.sk-estimator {font-family: monospace;background-color: #f0f8ff;border: 1px dotted black;border-radius: 0.25em;box-sizing: border-box;margin-bottom: 0.5em;}#sk-container-id-4 div.sk-estimator:hover {background-color: #d4ebff;}#sk-container-id-4 div.sk-parallel-item::after {content: \"\";width: 100%;border-bottom: 1px solid gray;flex-grow: 1;}#sk-container-id-4 div.sk-label:hover label.sk-toggleable__label {background-color: #d4ebff;}#sk-container-id-4 div.sk-serial::before {content: \"\";position: absolute;border-left: 1px solid gray;box-sizing: border-box;top: 0;bottom: 0;left: 50%;z-index: 0;}#sk-container-id-4 div.sk-serial {display: flex;flex-direction: column;align-items: center;background-color: white;padding-right: 0.2em;padding-left: 0.2em;position: relative;}#sk-container-id-4 div.sk-item {position: relative;z-index: 1;}#sk-container-id-4 div.sk-parallel {display: flex;align-items: stretch;justify-content: center;background-color: white;position: relative;}#sk-container-id-4 div.sk-item::before, #sk-container-id-4 div.sk-parallel-item::before {content: \"\";position: absolute;border-left: 1px solid gray;box-sizing: border-box;top: 0;bottom: 0;left: 50%;z-index: -1;}#sk-container-id-4 div.sk-parallel-item {display: flex;flex-direction: column;z-index: 1;position: relative;background-color: white;}#sk-container-id-4 div.sk-parallel-item:first-child::after {align-self: flex-end;width: 50%;}#sk-container-id-4 div.sk-parallel-item:last-child::after {align-self: flex-start;width: 50%;}#sk-container-id-4 div.sk-parallel-item:only-child::after {width: 0;}#sk-container-id-4 div.sk-dashed-wrapped {border: 1px dashed gray;margin: 0 0.4em 0.5em 0.4em;box-sizing: border-box;padding-bottom: 0.4em;background-color: white;}#sk-container-id-4 div.sk-label label {font-family: monospace;font-weight: bold;display: inline-block;line-height: 1.2em;}#sk-container-id-4 div.sk-label-container {text-align: center;}#sk-container-id-4 div.sk-container {/* jupyter's `normalize.less` sets `[hidden] { display: none; }` but bootstrap.min.css set `[hidden] { display: none !important; }` so we also need the `!important` here to be able to override the default hidden behavior on the sphinx rendered scikit-learn.org. See: https://github.com/scikit-learn/scikit-learn/issues/21755 */display: inline-block !important;position: relative;}#sk-container-id-4 div.sk-text-repr-fallback {display: none;}</style><div id=\"sk-container-id-4\" class=\"sk-top-container\"><div class=\"sk-text-repr-fallback\"><pre>MultinomialNB()</pre><b>In a Jupyter environment, please rerun this cell to show the HTML representation or trust the notebook. <br />On GitHub, the HTML representation is unable to render, please try loading this page with nbviewer.org.</b></div><div class=\"sk-container\" hidden><div class=\"sk-item\"><div class=\"sk-estimator sk-toggleable\"><input class=\"sk-toggleable__control sk-hidden--visually\" id=\"sk-estimator-id-4\" type=\"checkbox\" checked><label for=\"sk-estimator-id-4\" class=\"sk-toggleable__label sk-toggleable__label-arrow\">MultinomialNB</label><div class=\"sk-toggleable__content\"><pre>MultinomialNB()</pre></div></div></div></div></div>"
            ],
            "text/plain": [
              "MultinomialNB()"
            ]
          },
          "execution_count": 46,
          "metadata": {},
          "output_type": "execute_result"
        }
      ],
      "source": [
        "from sklearn.naive_bayes import MultinomialNB\n",
        "NB_classifier=MultinomialNB()\n",
        "NB_classifier.fit(X_train,y_train)\n"
      ]
    },
    {
      "cell_type": "markdown",
      "id": "7f623585",
      "metadata": {
        "id": "7f623585"
      },
      "source": [
        "#"
      ]
    },
    {
      "cell_type": "markdown",
      "id": "2bdd01ab",
      "metadata": {
        "id": "2bdd01ab"
      },
      "source": [
        "# *6. Evaluate model*"
      ]
    },
    {
      "cell_type": "code",
      "execution_count": null,
      "id": "6e19368f",
      "metadata": {
        "id": "6e19368f"
      },
      "outputs": [],
      "source": [
        "from sklearn.metrics import classification_report,confusion_matrix"
      ]
    },
    {
      "cell_type": "code",
      "execution_count": null,
      "id": "40cda907",
      "metadata": {
        "id": "40cda907",
        "outputId": "2ae136e6-47d3-4fee-b29d-82c42840c68a"
      },
      "outputs": [
        {
          "data": {
            "text/plain": [
              "array([0, 0, 0, ..., 0, 1, 0])"
            ]
          },
          "execution_count": 54,
          "metadata": {},
          "output_type": "execute_result"
        }
      ],
      "source": [
        "y_predict_train=NB_classifier.predict(X_train)\n",
        "y_predict_train"
      ]
    },
    {
      "cell_type": "code",
      "execution_count": null,
      "id": "0440205f",
      "metadata": {
        "id": "0440205f",
        "outputId": "d7197379-2f86-4598-8f0d-7e6b2d0a731c"
      },
      "outputs": [
        {
          "data": {
            "text/plain": [
              "<Axes: >"
            ]
          },
          "execution_count": 55,
          "metadata": {},
          "output_type": "execute_result"
        },
        {
          "data": {
            "image/png": "[encoded data removed]",
            "text/plain": [
              "<Figure size 640x480 with 2 Axes>"
            ]
          },
          "metadata": {},
          "output_type": "display_data"
        }
      ],
      "source": [
        "cm=confusion_matrix(y_train,y_predict_train)\n",
        "cm_percentage = cm / np.sum(cm) * 100 # for see lik pepercentage\n",
        "sns.heatmap(cm_percentage,annot=True,fmt='.2f')"
      ]
    },
    {
      "cell_type": "code",
      "execution_count": null,
      "id": "2ecf4129",
      "metadata": {
        "id": "2ecf4129"
      },
      "outputs": [],
      "source": [
        "y_predict_test=NB_classifier.predict(X_test)\n",
        "cm1=confusion_matrix(y_test,y_predict_test)"
      ]
    },
    {
      "cell_type": "code",
      "execution_count": null,
      "id": "818c8eef",
      "metadata": {
        "id": "818c8eef",
        "outputId": "a72287ac-8e04-484e-e9db-21e350d3656c"
      },
      "outputs": [
        {
          "data": {
            "text/plain": [
              "<Axes: >"
            ]
          },
          "execution_count": 57,
          "metadata": {},
          "output_type": "execute_result"
        },
        {
          "data": {
            "image/png": "[encoded data removed]",
            "text/plain": [
              "<Figure size 640x480 with 2 Axes>"
            ]
          },
          "metadata": {},
          "output_type": "display_data"
        }
      ],
      "source": [
        "\n",
        "cm_percentage1 = cm1/ np.sum(cm1) * 100 # for see lik pepercentage\n",
        "sns.heatmap(cm_percentage1,annot=True,fmt='.2f')"
      ]
    },
    {
      "cell_type": "code",
      "execution_count": null,
      "id": "ab9f5808",
      "metadata": {
        "id": "ab9f5808",
        "outputId": "091b9469-c257-4434-8daf-95bee21512db"
      },
      "outputs": [
        {
          "name": "stdout",
          "output_type": "stream",
          "text": [
            "              precision    recall  f1-score   support\n",
            "\n",
            "           0       1.00      1.00      1.00       874\n",
            "           1       0.99      0.99      0.99       272\n",
            "\n",
            "    accuracy                           0.99      1146\n",
            "   macro avg       0.99      0.99      0.99      1146\n",
            "weighted avg       0.99      0.99      0.99      1146\n",
            "\n"
          ]
        }
      ],
      "source": [
        "print(classification_report(y_test,y_predict_test))"
      ]
    },
    {
      "cell_type": "code",
      "execution_count": null,
      "id": "17bcd65c",
      "metadata": {
        "id": "17bcd65c"
      },
      "outputs": [],
      "source": []
    },
    {
      "cell_type": "markdown",
      "id": "10ec4439",
      "metadata": {
        "id": "10ec4439"
      },
      "source": []
    }
  ],
  "metadata": {
    "kernelspec": {
      "display_name": "Python 3 (ipykernel)",
      "language": "python",
      "name": "python3"
    },
    "language_info": {
      "codemirror_mode": {
        "name": "ipython",
        "version": 3
      },
      "file_extension": ".py",
      "mimetype": "text/x-python",
      "name": "python",
      "nbconvert_exporter": "python",
      "pygments_lexer": "ipython3",
      "version": "3.11.5"
    },
    "colab": {
      "provenance": [],
      "include_colab_link": true
    }
  },
  "nbformat": 4,
  "nbformat_minor": 5
}